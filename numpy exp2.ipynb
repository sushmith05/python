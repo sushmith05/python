{
 "cells": [
  {
   "cell_type": "code",
   "execution_count": 1,
   "id": "b8979b67",
   "metadata": {},
   "outputs": [
    {
     "data": {
      "text/plain": [
       "array([[   1, 4009],\n",
       "       [   2, 3000],\n",
       "       [   3, 2000],\n",
       "       [   4, 1000],\n",
       "       [   5, 5000],\n",
       "       [   6, 6001],\n",
       "       [   7, 7001],\n",
       "       [   8, 6000],\n",
       "       [   9, 6005],\n",
       "       [  10, 1000]])"
      ]
     },
     "execution_count": 1,
     "metadata": {},
     "output_type": "execute_result"
    }
   ],
   "source": [
    "import numpy as np\n",
    "Day_number=np.arange(1,11)\n",
    "step_walked=[4009,3000,2000,1000,5000,6001,7001,6000,6005,1000]\n",
    "arr=np.array([Day_number,step_walked])\n",
    "arr=arr.T\n",
    "arr"
   ]
  },
  {
   "cell_type": "code",
   "execution_count": 2,
   "id": "5ab7e1cd",
   "metadata": {},
   "outputs": [
    {
     "data": {
      "text/plain": [
       "array([[   1, 6009],\n",
       "       [   2, 5000],\n",
       "       [   3, 4000],\n",
       "       [   4, 3000],\n",
       "       [   5, 7000],\n",
       "       [   6, 8001],\n",
       "       [   7, 9001],\n",
       "       [   8, 8000],\n",
       "       [   9, 8005],\n",
       "       [  10, 3000]])"
      ]
     },
     "execution_count": 2,
     "metadata": {},
     "output_type": "execute_result"
    }
   ],
   "source": [
    "new_arr=arr[:,1]+2000\n",
    "arr[:,1]=new_arr\n",
    "arr"
   ]
  },
  {
   "cell_type": "code",
   "execution_count": 3,
   "id": "5daa287f",
   "metadata": {},
   "outputs": [
    {
     "data": {
      "text/plain": [
       "array([[   1, 6009],\n",
       "       [   5, 7000],\n",
       "       [   6, 8001],\n",
       "       [   7, 9001],\n",
       "       [   8, 8000],\n",
       "       [   9, 8005]])"
      ]
     },
     "execution_count": 3,
     "metadata": {},
     "output_type": "execute_result"
    }
   ],
   "source": [
    "matched=arr[:,1]>6000\n",
    "matched\n",
    "new_arr=arr[matched]\n",
    "new_arr"
   ]
  },
  {
   "cell_type": "code",
   "execution_count": null,
   "id": "4054a419",
   "metadata": {},
   "outputs": [],
   "source": []
  }
 ],
 "metadata": {
  "kernelspec": {
   "display_name": "Python 3 (ipykernel)",
   "language": "python",
   "name": "python3"
  },
  "language_info": {
   "codemirror_mode": {
    "name": "ipython",
    "version": 3
   },
   "file_extension": ".py",
   "mimetype": "text/x-python",
   "name": "python",
   "nbconvert_exporter": "python",
   "pygments_lexer": "ipython3",
   "version": "3.11.3"
  }
 },
 "nbformat": 4,
 "nbformat_minor": 5
}
